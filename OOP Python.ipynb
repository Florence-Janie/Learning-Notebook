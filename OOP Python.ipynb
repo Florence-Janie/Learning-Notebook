{
 "cells": [
  {
   "cell_type": "markdown",
   "metadata": {},
   "source": [
    "# Python 面向对象\n",
    "Python从设计之初就已经是一门面向对象的语言，正因为如此，在Python中创建一个类和对象是很容易的。\n",
    "如果你以前没有接触过面向对象的编程语言，那你可能需要先了解一些面向对象语言的一些基本特征，在头脑里头形成一个基本的面向对象的概念，这样有助于你更容易的学习Python的面向对象编程。\n",
    "注:[Python 面向对象](http://www.runoob.com/python/python-object.html)"
   ]
  },
  {
   "cell_type": "markdown",
   "metadata": {},
   "source": [
    "## 面向对象技术简介\n",
    "1. 类(Class): 用来描述具有相同的属性和方法的对象的集合。它定义了该集合中每个对象所共有的属性和方法。对象是类的实例。\n",
    "2. 类变量：类变量在整个实例化的对象中是公用的。类变量定义在类中且在函数体之外。类变量通常不作为实例变量使用。\n",
    "3. 数据成员：类变量或者实例变量, 用于处理类及其实例对象的相关的数据。\n",
    "4. 方法重写：如果从父类继承的方法不能满足子类的需求，可以对其进行改写，这个过程叫方法的覆盖（override），也称为方法的重写。\n",
    "5. 局部变量：定义在方法中的变量，只作用于当前实例的类。\n",
    "6. 实例变量：在类的声明中，属性是用变量来表示的。这种变量就称为实例变量，是在类声明的内部但是在类的其他成员方法之外声明的。\n",
    "7. 继承：即一个派生类（derived class）继承基类（base class）的字段和方法。继承也允许把一个派生类的对象作为一个基类对象对待。例如，有这样一个设计：一个Dog类型的对象派生自Animal类，这是模拟\"是一个（is-a）\"关系（例图，Dog是一个Animal）。\n",
    "8. 实例化：创建一个类的实例，类的具体对象。\n",
    "9. 方法：类中定义的函数。\n",
    "10. 对象：通过类定义的数据结构实例。对象包括两个数据成员（类变量和实例变量）和方法。"
   ]
  },
  {
   "cell_type": "markdown",
   "metadata": {},
   "source": [
    "# 创建类\n",
    "```\n",
    "使用 class 语句来创建一个新类，class 之后为类的名称并以冒号结尾:\n",
    "class ClassName:\n",
    "   '类的帮助信息'   #类文档字符串\n",
    "   class_suite  #类体\n",
    "```\n",
    "类的帮助信息可以通过`ClassName.__doc__`查看。\n",
    "class_suite 由类成员，方法，数据属性组成。\n",
    "## 实例"
   ]
  },
  {
   "cell_type": "code",
   "execution_count": 7,
   "metadata": {
    "collapsed": true
   },
   "outputs": [],
   "source": [
    "#!/usr/bin/python\n",
    "# -*- coding: UTF-8 -*-\n",
    "class Employee:\n",
    "    empCount = 0\n",
    "    def __init__(self, name, salary):\n",
    "        self.name = name\n",
    "        self.salary = salary\n",
    "        Employee.empCount += 1\n",
    "    def displayCount(self):\n",
    "        print(\"Total Employee %d\" % Employee.empCount)\n",
    "    def displayEmployee(self):\n",
    "        print(\"Name : \", self.name,  \", Salary: \", self.salary)"
   ]
  },
  {
   "cell_type": "markdown",
   "metadata": {},
   "source": [
    "* empCount 变量是一个类变量，它的值将在这个类的所有实例之间共享。你可以在内部类或外部类使用 Employee.empCount 访问。\n",
    "* 第一种方法`__init__()`方法是一种特殊的方法，被称为类的构造函数或初始化方法，当创建了这个类的实例时就会调用该方法。\n",
    "* self 代表类的实例，self 在定义类的方法时是必须有的，虽然在调用时不必传入相应的参数。\n",
    "**self代表类的实例，而非类**\n",
    "类的方法与普通的函数只有一个特别的区别——它们必须有一个额外的第一个参数名称, 按照惯例它的名称是 self。"
   ]
  },
  {
   "cell_type": "code",
   "execution_count": 2,
   "metadata": {},
   "outputs": [
    {
     "name": "stdout",
     "output_type": "stream",
     "text": [
      "<__main__.Test object at 0x7f3744626400>\n",
      "<class '__main__.Test'>\n"
     ]
    }
   ],
   "source": [
    "class Test:\n",
    "    def prt(self):\n",
    "        print(self)\n",
    "        print(self.__class__)\n",
    " \n",
    "t = Test()\n",
    "t.prt()"
   ]
  },
  {
   "cell_type": "markdown",
   "metadata": {},
   "source": [
    "从执行结果可以很明显的看出，self 代表的是类的实例，代表当前对象的地址，而 `self.__class__` 则指向类。\n",
    "self 不是 python 关键字，我们把他换成 runoob 也是可以正常执行的:\n",
    "## 实例"
   ]
  },
  {
   "cell_type": "code",
   "execution_count": 3,
   "metadata": {},
   "outputs": [
    {
     "name": "stdout",
     "output_type": "stream",
     "text": [
      "<__main__.Test object at 0x7f3744626588>\n",
      "<class '__main__.Test'>\n"
     ]
    }
   ],
   "source": [
    "class Test:\n",
    "    def prt(runoob):\n",
    "        print(runoob)\n",
    "        print(runoob.__class__)\n",
    " \n",
    "t = Test()\n",
    "t.prt()"
   ]
  },
  {
   "cell_type": "markdown",
   "metadata": {},
   "source": [
    "# 创建实例对象\n",
    "实例化类其他编程语言中一般用关键字 new，但是在 Python 中并没有这个关键字，类的实例化类似函数调用方式。\n",
    "以下使用类的名称 Employee 来实例化，并通过` __init__` 方法接收参数。"
   ]
  },
  {
   "cell_type": "code",
   "execution_count": 29,
   "metadata": {
    "collapsed": true
   },
   "outputs": [],
   "source": [
    "\"创建 Employee 类的第一个对象\"\n",
    "emp1 = Employee(\"Zara\", 2000)\n",
    "\"创建 Employee 类的第二个对象\"\n",
    "emp2 = Employee(\"Manni\", 5000)"
   ]
  },
  {
   "cell_type": "markdown",
   "metadata": {},
   "source": [
    "## 访问属性\n",
    "可以使用点号 `.` 来访问对象的属性。使用如下类的名称访问类变量:"
   ]
  },
  {
   "cell_type": "code",
   "execution_count": 9,
   "metadata": {},
   "outputs": [
    {
     "name": "stdout",
     "output_type": "stream",
     "text": [
      "Name :  Zara , Salary:  2000\n",
      "Name :  Manni , Salary:  5000\n",
      "Total Employee 2\n"
     ]
    }
   ],
   "source": [
    "emp1.displayEmployee()\n",
    "emp2.displayEmployee()\n",
    "print(\"Total Employee %d\" % Employee.empCount)"
   ]
  },
  {
   "cell_type": "markdown",
   "metadata": {},
   "source": [
    "## 完整实例："
   ]
  },
  {
   "cell_type": "code",
   "execution_count": 16,
   "metadata": {},
   "outputs": [
    {
     "name": "stdout",
     "output_type": "stream",
     "text": [
      "Name :  Zara , Salary:  2000\n",
      "Name :  Manni , Salary:  5000\n",
      "Total Employee 2\n"
     ]
    }
   ],
   "source": [
    "#!/usr/bin/python\n",
    "# -*- coding: UTF-8 -*-\n",
    " \n",
    "class Employee:\n",
    "   '所有员工的基类'\n",
    "   empCount = 0\n",
    " \n",
    "   def __init__(self, name, salary):\n",
    "      self.name = name\n",
    "      self.salary = salary\n",
    "      Employee.empCount += 1\n",
    "   \n",
    "   def displayCount(self):\n",
    "     print(\"Total Employee %d\" % Employee.empCount)\n",
    " \n",
    "   def displayEmployee(self):\n",
    "      print(\"Name : \", self.name,  \", Salary: \", self.salary)\n",
    " \n",
    "\"创建 Employee 类的第一个对象\"\n",
    "emp1 = Employee(\"Zara\", 2000)\n",
    "\"创建 Employee 类的第二个对象\"\n",
    "emp2 = Employee(\"Manni\", 5000)\n",
    "emp1.displayEmployee()\n",
    "emp2.displayEmployee()\n",
    "print(f'Total Employee {Employee.empCount}')"
   ]
  },
  {
   "cell_type": "markdown",
   "metadata": {},
   "source": [
    "你可以添加，删除，修改类的属性，如下所示："
   ]
  },
  {
   "cell_type": "code",
   "execution_count": 11,
   "metadata": {
    "collapsed": true
   },
   "outputs": [],
   "source": [
    "emp1.age = 7  # 添加一个 'age' 属性\n",
    "emp1.age = 8  # 修改 'age' 属性\n",
    "del emp1.age  # 删除 'age' 属性"
   ]
  },
  {
   "cell_type": "markdown",
   "metadata": {},
   "source": [
    "你也可以使用以下函数的方式来访问属性：\n",
    "* getattr(obj, name[, default]) : 访问对象的属性。\n",
    "* hasattr(obj,name) : 检查是否存在一个属性。\n",
    "* setattr(obj,name,value) : 设置一个属性。如果属性不存在，会创建一个新属性。\n",
    "* delattr(obj, name) : 删除属性。"
   ]
  },
  {
   "cell_type": "code",
   "execution_count": 15,
   "metadata": {},
   "outputs": [],
   "source": [
    "hasattr(emp1, 'age')\n",
    "setattr(emp1, 'age', 8)\n",
    "getattr(emp1, 'age')\n",
    "delattr(emp1, 'age')"
   ]
  },
  {
   "cell_type": "markdown",
   "metadata": {},
   "source": [
    "## Python内置类属性\n",
    "1. `__dict__` : 类的属性（包含一个字典，由类的数据属性组成）\n",
    "2. `__doc__` :类的文档字符串\n",
    "3. `__name__`: 类名\n",
    "4. `__module__`: 类定义所在的模块（类的全名是'__main__.className'，如果类位于一个导入模块mymod中，那么className.__module__ 等于 mymod）\n",
    "5. `__bases__` : 类的所有父类构成元素（包含了一个由所有父类组成的元组）\n",
    "Python内置类属性调用实例如下："
   ]
  },
  {
   "cell_type": "code",
   "execution_count": 22,
   "metadata": {},
   "outputs": [
    {
     "name": "stdout",
     "output_type": "stream",
     "text": [
      "Employee.__doc__: 所有员工的基类\n",
      "Employee.__name__: Employee\n",
      "Employee.__module__: __main__\n",
      "Employee.__bases__: (<class 'object'>,)\n",
      "Employee.__dict__: {'__module__': '__main__', '__doc__': '所有员工的基类', 'empCount': 0, '__init__': <function Employee.__init__ at 0x7f37445a3c80>, 'displayCount': <function Employee.displayCount at 0x7f37445a3378>, 'displayEmployee': <function Employee.displayEmployee at 0x7f37444af048>, '__dict__': <attribute '__dict__' of 'Employee' objects>, '__weakref__': <attribute '__weakref__' of 'Employee' objects>}\n"
     ]
    }
   ],
   "source": [
    "#!/usr/bin/python\n",
    "# -*- coding: UTF-8 -*-\n",
    " \n",
    "class Employee:\n",
    "    '所有员工的基类'\n",
    "    empCount = 0\n",
    "    def __init__(self, name, salary):\n",
    "        self.name = name\n",
    "        self.salary = salary\n",
    "        Employee.empCount += 1\n",
    "        \n",
    "    def displayCount(self):\n",
    "        print(f\"Total Employee {Employee.empCount}\")\n",
    "    def displayEmployee(self):\n",
    "        print(f\"Name : {self.name}, Salary: {self.salary}\")\n",
    "        \n",
    "print(\"Employee.__doc__:\", Employee.__doc__)\n",
    "print(\"Employee.__name__:\", Employee.__name__)\n",
    "print(\"Employee.__module__:\", Employee.__module__)\n",
    "print(\"Employee.__bases__:\", Employee.__bases__)\n",
    "print(\"Employee.__dict__:\", Employee.__dict__)"
   ]
  },
  {
   "cell_type": "markdown",
   "metadata": {},
   "source": [
    "## python对象销毁(垃圾回收)\n",
    "Python 使用了引用计数这一简单技术来跟踪和回收垃圾。\n",
    "在 Python 内部记录着所有使用中的对象各有多少引用。\n",
    "一个内部跟踪变量，称为一个引用计数器。\n",
    "当对象被创建时， 就创建了一个引用计数， 当这个对象不再需要时， 也就是说， 这个对象的引用计数变为0 时， 它被垃圾回收。但是回收不是\"立即\"的， 由解释器在适当的时机，将垃圾对象占用的内存空间回收。"
   ]
  },
  {
   "cell_type": "code",
   "execution_count": null,
   "metadata": {
    "collapsed": true
   },
   "outputs": [],
   "source": [
    "a = 40      # 创建对象  <40>\n",
    "b = a       # 增加引用， <40> 的计数\n",
    "c = [b]     # 增加引用.  <40> 的计数\n",
    "\n",
    "del a       # 减少引用 <40> 的计数\n",
    "b = 100     # 减少引用 <40> 的计数\n",
    "c[0] = -1   # 减少引用 <40> 的计数"
   ]
  },
  {
   "cell_type": "markdown",
   "metadata": {},
   "source": [
    "垃圾回收机制不仅针对引用计数为0的对象，同样也可以处理循环引用的情况。循环引用指的是，两个对象相互引用，但是没有其他变量引用他们。这种情况下，仅使用引用计数是不够的。\n",
    "Python 的垃圾收集器实际上是一个引用计数器和一个循环垃圾收集器。作为引用计数的补充， 垃圾收集器也会留心被分配的总量很大（及未通过引用计数销毁的那些）的对象。 在这种情况下， 解释器会暂停下来， 试图清理所有未引用的循环。\n",
    "### 实例\n",
    "析构函数 `__del__` ，`__del__`在对象销毁的时候被调用，当对象不再被使用时，`__del__`方法运行："
   ]
  },
  {
   "cell_type": "code",
   "execution_count": 28,
   "metadata": {},
   "outputs": [
    {
     "name": "stdout",
     "output_type": "stream",
     "text": [
      "Point 销毁\n",
      "139875345647992 139875345647992 139875345647992\n",
      "Point 销毁\n"
     ]
    }
   ],
   "source": [
    "#!/usr/bin/python\n",
    "# -*- coding: UTF-8 -*-\n",
    "\n",
    "class Point:\n",
    "    def __init__( self, x=0, y=0):\n",
    "        self.x = x\n",
    "        self.y = y\n",
    "    def __del__(self):\n",
    "        class_name = self.__class__.__name__\n",
    "        print(class_name, \"销毁\")\n",
    "        \n",
    "pt1 = Point()\n",
    "pt2 = pt1\n",
    "pt3 = pt1\n",
    "print(id(pt1), id(pt2), id(pt3)) # 打印对象的id\n",
    "del pt1\n",
    "del pt2\n",
    "del pt3"
   ]
  },
  {
   "cell_type": "markdown",
   "metadata": {},
   "source": [
    "注意：通常你需要在单独的文件中定义一个类\n",
    "## 类的继承\n",
    "面向对象的编程带来的主要好处之一是代码的重用，实现这种重用的方法之一是通过继承机制。\n",
    "通过继承创建的新类称为子类或派生类，被继承的类称为基类、父类或超类。\n",
    "\n",
    "继承语法:\n",
    "```\n",
    "class 派生类名(基类名)\n",
    "    ...\n",
    "```\n",
    "\n",
    "在python中继承中的一些特点：\n",
    "1. 如果在子类中需要父类的构造方法就需要显示的调用父类的构造方法，或者不重写父类的构造方法。详细说明可查看：[python 子类继承父类构造函数说明](http://www.runoob.com/w3cnote/python-extends-init.html)。\n",
    "2. 在调用基类的方法时，需要加上基类的类名前缀，且需要带上 self 参数变量。区别在于类中调用普通函数时并不需要带上 self 参数\n",
    "3. Python 总是首先查找对应类型的方法，如果它不能在派生类中找到对应的方法，它才开始到基类中逐个查找。（先在本类中查找调用的方法，找不到才去基类中找）。\n",
    "\n",
    "如果在继承元组中列了一个以上的类，那么它就被称作\"多重继承\" 。\n",
    "语法：派生类的声明，与他们的父类类似，继承的基类列表跟在类名之后，如下所示：\n",
    "```\n",
    "class SubClassName (ParentClass1[, ParentClass2, ...]):\n",
    "    ...\n",
    "```\n",
    "### 实例"
   ]
  },
  {
   "cell_type": "code",
   "execution_count": 33,
   "metadata": {},
   "outputs": [
    {
     "name": "stdout",
     "output_type": "stream",
     "text": [
      "调用子类构造方法\n",
      "调用子类方法\n",
      "调用父类方法\n",
      "父类属性 : 200\n"
     ]
    }
   ],
   "source": [
    "#!/usr/bin/python\n",
    "# -*- coding: UTF-8 -*-\n",
    "\n",
    "class Parent:        # 定义父类\n",
    "    parentAttr = 100\n",
    "    def __init__(self):\n",
    "        print(\"调用父类构造函数\")\n",
    "        \n",
    "    def parentMethod(self):\n",
    "        print(\"调用父类方法\")\n",
    "        \n",
    "    def setAttr(self, attr):\n",
    "        Parent.parentAttr = attr\n",
    "        \n",
    "    def getAttr(self):\n",
    "        print(\"父类属性 :\", Parent.parentAttr)\n",
    "        \n",
    "class Child(Parent): # 定义子类\n",
    "    def __init__(self):\n",
    "        print(\"调用子类构造方法\")\n",
    "        \n",
    "    def childMethod(self):\n",
    "        print('调用子类方法')\n",
    "        \n",
    "c = Child()          # 实例化子类\n",
    "c.childMethod()      # 调用子类的方法\n",
    "c.parentMethod()     # 调用父类方法\n",
    "c.setAttr(200)       # 再次调用父类的方法 - 设置属性值\n",
    "c.getAttr()          # 再次调用父类的方法 - 获取属性值"
   ]
  },
  {
   "cell_type": "markdown",
   "metadata": {},
   "source": [
    "你可以继承多个类\n",
    "```\n",
    "class A:        # 定义类 A\n",
    ".....\n",
    "\n",
    "class B:         # 定义类 B\n",
    ".....\n",
    "\n",
    "class C(A, B):   # 继承类 A 和 B\n",
    ".....\n",
    "```\n",
    "你可以使用issubclass()或者isinstance()方法来检测。\n",
    "* issubclass() - 布尔函数判断一个类是另一个类的子类或者子孙类，语法：issubclass(sub,sup)\n",
    "* isinstance(obj, Class) 布尔函数如果obj是Class类的实例对象或者是一个Class子类的实例对象则返回true。"
   ]
  },
  {
   "cell_type": "markdown",
   "metadata": {},
   "source": [
    "## 方法重写\n",
    "如果你的父类方法的功能不能满足你的需求，你可以在子类重写你父类的方法：\n",
    "\n",
    "### 实例："
   ]
  },
  {
   "cell_type": "code",
   "execution_count": 34,
   "metadata": {},
   "outputs": [
    {
     "name": "stdout",
     "output_type": "stream",
     "text": [
      "调用子类方法\n"
     ]
    }
   ],
   "source": [
    "#!/usr/bin/python\n",
    "# -*- coding: UTF-8 -*-\n",
    "\n",
    "class Parent:        # 定义父类\n",
    "    def myMethod(self):\n",
    "        print('调用父类方法')\n",
    "        \n",
    "class Child(Parent): # 定义子类\n",
    "    def myMethod(self):\n",
    "        print('调用子类方法')\n",
    "    \n",
    "c = Child()          # 子类实例\n",
    "c.myMethod()         # 子类调用重写方法"
   ]
  },
  {
   "cell_type": "markdown",
   "metadata": {},
   "source": [
    "## 基础重载方法\n",
    "下表列出了一些通用的功能，你可以在自己的类重写：\n",
    "\n",
    "|序号|方法|描述 & 简单的调用|\n",
    "|:--|:--:|:--:|\n",
    "|1|`__init__ ( self [,args...] )`|构造函数 简单的调用方法: obj = className(args)|\n",
    "|2|`__del__( self )`|析构方法, 删除一个对象 简单的调用方法 : del obj|\n",
    "|3|`__repr__( self )`|转化为供解释器读取的形式 简单的调用方法 : repr(obj)|\n",
    "|4|`__str__( self )`|用于将值转化为适于人阅读的形式 简单的调用方法 : str(obj)|\n",
    "|5|`__cmp__ ( self, x )`|对象比较 简单的调用方法 : cmp(obj, x)|"
   ]
  },
  {
   "cell_type": "markdown",
   "metadata": {},
   "source": [
    "## 运算符重载\n",
    "Python同样支持运算符重载\n",
    "### 实例"
   ]
  },
  {
   "cell_type": "code",
   "execution_count": 35,
   "metadata": {},
   "outputs": [
    {
     "name": "stdout",
     "output_type": "stream",
     "text": [
      "Vector (7, 8)\n"
     ]
    }
   ],
   "source": [
    "#!usr/bin/python\n",
    "\n",
    "class Vector:\n",
    "    def __init__(self, a, b):\n",
    "        self.a = a\n",
    "        self.b = b\n",
    "        \n",
    "    def __str__(self):\n",
    "        return f'Vector ({self.a}, {self.b})'\n",
    "    \n",
    "    def __add__(self,other):\n",
    "        return Vector(self.a + other.a, self.b + other.b)\n",
    "    \n",
    "v1 = Vector(2,10)\n",
    "v2 = Vector(5,-2)\n",
    "print(v1 + v2)"
   ]
  },
  {
   "cell_type": "markdown",
   "metadata": {},
   "source": [
    "## 类属性与方法\n",
    "### 类的私有属性\n",
    "`__private_attrs`：两个下划线开头，声明该属性为私有，不能在类的外部被使用或直接访问。在类内部的方法中使用时 self.__private_attrs。\n",
    "### 类的方法\n",
    "在类的内部，使用 `def` 关键字可以为类定义一个方法，与一般函数定义不同，类方法必须包含参数 self,且为第一个参数\n",
    "### 类的私有方法\n",
    "`__private_method`：两个下划线开头，声明该方法为私有方法，不能在类的外部调用。在类的内部调用 self.__private_methods\n",
    "### 实例"
   ]
  },
  {
   "cell_type": "code",
   "execution_count": 42,
   "metadata": {},
   "outputs": [
    {
     "name": "stdout",
     "output_type": "stream",
     "text": [
      "1\n",
      "2\n",
      "2\n"
     ]
    },
    {
     "ename": "AttributeError",
     "evalue": "'JustCounter' object has no attribute '__secretCount'",
     "output_type": "error",
     "traceback": [
      "\u001b[0;31m---------------------------------------------------------------------------\u001b[0m",
      "\u001b[0;31mAttributeError\u001b[0m                            Traceback (most recent call last)",
      "\u001b[0;32m<ipython-input-42-ab3099e9204a>\u001b[0m in \u001b[0;36m<module>\u001b[0;34m\u001b[0m\n\u001b[1;32m     15\u001b[0m \u001b[0mcounter\u001b[0m\u001b[0;34m.\u001b[0m\u001b[0mcount\u001b[0m\u001b[0;34m(\u001b[0m\u001b[0;34m)\u001b[0m\u001b[0;34m\u001b[0m\u001b[0m\n\u001b[1;32m     16\u001b[0m \u001b[0mprint\u001b[0m\u001b[0;34m(\u001b[0m\u001b[0mcounter\u001b[0m\u001b[0;34m.\u001b[0m\u001b[0mpublicCount\u001b[0m\u001b[0;34m)\u001b[0m\u001b[0;34m\u001b[0m\u001b[0m\n\u001b[0;32m---> 17\u001b[0;31m \u001b[0mprint\u001b[0m\u001b[0;34m(\u001b[0m\u001b[0mcounter\u001b[0m\u001b[0;34m.\u001b[0m\u001b[0m__secretCount\u001b[0m\u001b[0;34m)\u001b[0m\u001b[0;34m\u001b[0m\u001b[0m\n\u001b[0m",
      "\u001b[0;31mAttributeError\u001b[0m: 'JustCounter' object has no attribute '__secretCount'"
     ]
    }
   ],
   "source": [
    "#!/usr/bin/python\n",
    "# -*- coding: UTF-8 -*-\n",
    "\n",
    "class JustCounter:\n",
    "    __secretCount = 0  # 私有变量\n",
    "    publicCount = 0    # 公开变量\n",
    "    \n",
    "    def count(self):\n",
    "        self.__secretCount += 1\n",
    "        self.publicCount += 1\n",
    "        print(self.__secretCount)\n",
    "        \n",
    "counter = JustCounter()\n",
    "counter.count()\n",
    "counter.count()\n",
    "print(counter.publicCount)\n",
    "print(counter.__secretCount) # 报错，实例不能访问私有变量"
   ]
  },
  {
   "cell_type": "markdown",
   "metadata": {},
   "source": [
    "Python不允许实例化的类访问私有数据，但你可以使用 `object._className__attrName（ 对象名._类名__私有属性名 ）`访问属性，参考以下实例："
   ]
  },
  {
   "cell_type": "code",
   "execution_count": 43,
   "metadata": {},
   "outputs": [
    {
     "name": "stdout",
     "output_type": "stream",
     "text": [
      "www.runoob.com\n"
     ]
    }
   ],
   "source": [
    "#!/usr/bin/python\n",
    "# -*- coding: UTF-8 -*-\n",
    "\n",
    "class Runoob:\n",
    "    __site = \"www.runoob.com\"\n",
    "    \n",
    "runoob = Runoob()\n",
    "print(runoob._Runoob__site)"
   ]
  },
  {
   "cell_type": "markdown",
   "metadata": {},
   "source": [
    "单下划线、双下划线、头尾双下划线说明：\n",
    "* `__foo__`: 定义的是特殊方法，一般是系统定义名字 ，类似 __init__() 之类的。\n",
    "* `_foo`: 以单下划线开头的表示的是 protected 类型的变量，即保护类型只能允许其本身与子类进行访问，不能用于 `from module import *`\n",
    "* `__foo`: 双下划线的表示的是私有类型(private)的变量, 只能是允许这个类本身进行访问了。"
   ]
  }
 ],
 "metadata": {
  "kernelspec": {
   "display_name": "Python 3",
   "language": "python",
   "name": "python3"
  },
  "language_info": {
   "codemirror_mode": {
    "name": "ipython",
    "version": 3
   },
   "file_extension": ".py",
   "mimetype": "text/x-python",
   "name": "python",
   "nbconvert_exporter": "python",
   "pygments_lexer": "ipython3",
   "version": "3.6.3"
  }
 },
 "nbformat": 4,
 "nbformat_minor": 2
}
